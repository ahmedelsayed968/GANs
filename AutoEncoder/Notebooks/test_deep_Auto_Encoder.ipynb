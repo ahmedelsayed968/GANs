{
 "nbformat": 4,
 "nbformat_minor": 0,
 "metadata": {
  "colab": {
   "provenance": [],
   "gpuType": "T4"
  },
  "kernelspec": {
   "name": "python3",
   "display_name": "Python 3"
  },
  "language_info": {
   "name": "python"
  },
  "accelerator": "GPU"
 },
 "cells": [
  {
   "cell_type": "code",
   "execution_count": 1,
   "metadata": {
    "colab": {
     "base_uri": "https://localhost:8080/"
    },
    "id": "z0_cgd8dFFOS",
    "outputId": "73417859-a774-4473-d5f1-44f57fab28d2",
    "pycharm": {
     "name": "#%%\n"
    }
   },
   "outputs": [
    {
     "output_type": "stream",
     "name": "stdout",
     "text": [
      "Colab only includes TensorFlow 2.x; %tensorflow_version has no effect.\n"
     ]
    }
   ],
   "source": [
    "try:\n",
    "  # %tensorflow_version only exists in Colab.\n",
    "  %tensorflow_version 2.x\n",
    "except Exception:\n",
    "  pass\n",
    "\n",
    "import tensorflow as tf\n",
    "import tensorflow_datasets as tfds\n",
    "\n",
    "import numpy as np\n",
    "import matplotlib.pyplot as plt"
   ]
  },
  {
   "cell_type": "code",
   "source": [
    "import tensorflow_datasets as tfds\n",
    "from tensorflow.python.keras.layers import Dense, Input\n",
    "from tensorflow.python.keras.models import Model\n",
    "\n",
    "\n",
    "class DeepAE(object):\n",
    "    def __init__(self, input_shape: int, layers_units: list[int]):\n",
    "        self.input_shape = input_shape\n",
    "        self.layers_units = layers_units\n",
    "        self.Encoder = None\n",
    "        self.Decoder = None\n",
    "        self.Model = None\n",
    "        self.Model_Encoder = None\n",
    "        self.input_layer = Input(shape=(self.input_shape,))\n",
    "        self.output_layer = Dense(units=self.input_shape, activation='sigmoid')\n",
    "\n",
    "    def build_model(self):\n",
    "        Dense_layers = self.__get_layers()\n",
    "\n",
    "        # initialize the Encoder Model\n",
    "        self.Encoder = Dense_layers[0](self.input_layer)\n",
    "        for layer in Dense_layers[1:]:\n",
    "            self.Encoder = layer(self.Encoder)\n",
    "\n",
    "        # initialize the Decoder Model\n",
    "        reversed_layers = self.__get_layers()\n",
    "        reversed_layers = reversed_layers[::-1]\n",
    "        reversed_layers = reversed_layers[1:]\n",
    "        self.Decoder = reversed_layers[0](self.Encoder)\n",
    "        for layer in reversed_layers[1:]:\n",
    "            self.Decoder = layer(self.Decoder)\n",
    "        self.Decoder = self.output_layer(self.Decoder)\n",
    "\n",
    "        self.Model_Encoder = Model(inputs=self.input_layer,outputs=self.Encoder)\n",
    "        self.Model = Model(inputs=self.input_layer, outputs=self.Decoder)\n",
    "\n",
    "    def fit(self,\n",
    "            x_train,\n",
    "            optimizer_,\n",
    "            loss,\n",
    "            epochs,\n",
    "            steps):\n",
    "\n",
    "        if self.Model is None:\n",
    "            return None\n",
    "\n",
    "# deep_autoencoder_model.compile(optimizer=tf.keras.optimizers.Adam(), loss='binary_crossentropy')\n",
    "        self.Model.compile(optimizer=optimizer_,\n",
    "                           loss=loss)\n",
    "        return self.Model.fit(x_train,\n",
    "                       epochs=epochs,\n",
    "                              steps_per_epoch=steps)\n",
    "\n",
    "    def __get_layers(self):\n",
    "        layers = []\n",
    "        for num in self.layers_units:\n",
    "            layers.append(Dense(units=num, activation='relu'))\n",
    "        return layers\n",
    "\n",
    "\n",
    "\n",
    "def map_image(image, label):\n",
    "    \"\"\"Normalizes and flattens the image. Returns image as input and label.\"\"\"\n",
    "    image = tf.cast(image, dtype=tf.float32)\n",
    "    image = image / 255.0\n",
    "    image = tf.reshape(image, shape=(784,))\n",
    "\n",
    "    return image, image\n",
    "\n",
    "\n",
    "def get_data():\n",
    "    # Load the train and test sets from TFDS\n",
    "\n",
    "    BATCH_SIZE = 128\n",
    "    SHUFFLE_BUFFER_SIZE = 1024\n",
    "\n",
    "    train_dataset = tfds.load('mnist', as_supervised=True, split=\"train\")\n",
    "    train_dataset = train_dataset.map(map_image)\n",
    "    train_dataset = train_dataset.shuffle(SHUFFLE_BUFFER_SIZE).batch(BATCH_SIZE).repeat()\n",
    "\n",
    "    test_dataset = tfds.load('mnist', as_supervised=True, split=\"test\")\n",
    "    test_dataset = test_dataset.map(map_image)\n",
    "    test_dataset = test_dataset.batch(BATCH_SIZE).repeat()\n",
    "    return train_dataset, test_dataset, BATCH_SIZE\n",
    "\n",
    "\n",
    "if __name__ == '__main__':\n",
    "    train, test, BATCH_SIZE = get_data()\n",
    "\n",
    "    train_steps = 60000 // BATCH_SIZE\n",
    "\n",
    "    model = DeepAE(784, [128,64, 32,16])\n",
    "    model.build_model()\n",
    "    opt = tf.keras.optimizers.Adam()\n",
    "    history = model.fit(train, 'adam', 'binary_crossentropy', epochs=50,steps=train_steps)\n"
   ],
   "metadata": {
    "colab": {
     "base_uri": "https://localhost:8080/"
    },
    "id": "UYZVmdtqFM1H",
    "outputId": "15d68956-918e-418b-fc23-a31480ee21d4",
    "pycharm": {
     "name": "#%%\n"
    }
   },
   "execution_count": 30,
   "outputs": [
    {
     "output_type": "stream",
     "name": "stdout",
     "text": [
      "Epoch 1/50\n",
      "468/468 [==============================] - 7s 13ms/step - loss: 0.2300\n",
      "Epoch 2/50\n",
      "468/468 [==============================] - 4s 9ms/step - loss: 0.1532\n",
      "Epoch 3/50\n",
      "468/468 [==============================] - 4s 10ms/step - loss: 0.1389\n",
      "Epoch 4/50\n",
      "468/468 [==============================] - 4s 8ms/step - loss: 0.1324\n",
      "Epoch 5/50\n",
      "468/468 [==============================] - 4s 9ms/step - loss: 0.1263\n",
      "Epoch 6/50\n",
      "468/468 [==============================] - 4s 8ms/step - loss: 0.1229\n",
      "Epoch 7/50\n",
      "468/468 [==============================] - 3s 7ms/step - loss: 0.1207\n",
      "Epoch 8/50\n",
      "468/468 [==============================] - 5s 10ms/step - loss: 0.1188\n",
      "Epoch 9/50\n",
      "468/468 [==============================] - 5s 10ms/step - loss: 0.1173\n",
      "Epoch 10/50\n",
      "468/468 [==============================] - 4s 9ms/step - loss: 0.1160\n",
      "Epoch 11/50\n",
      "468/468 [==============================] - 3s 7ms/step - loss: 0.1149\n",
      "Epoch 12/50\n",
      "468/468 [==============================] - 4s 9ms/step - loss: 0.1137\n",
      "Epoch 13/50\n",
      "468/468 [==============================] - 3s 7ms/step - loss: 0.1123\n",
      "Epoch 14/50\n",
      "468/468 [==============================] - 5s 10ms/step - loss: 0.1112\n",
      "Epoch 15/50\n",
      "468/468 [==============================] - 6s 12ms/step - loss: 0.1104\n",
      "Epoch 16/50\n",
      "468/468 [==============================] - 3s 7ms/step - loss: 0.1097\n",
      "Epoch 17/50\n",
      "468/468 [==============================] - 3s 7ms/step - loss: 0.1090\n",
      "Epoch 18/50\n",
      "468/468 [==============================] - 4s 9ms/step - loss: 0.1085\n",
      "Epoch 19/50\n",
      "468/468 [==============================] - 3s 7ms/step - loss: 0.1079\n",
      "Epoch 20/50\n",
      "468/468 [==============================] - 3s 7ms/step - loss: 0.1073\n",
      "Epoch 21/50\n",
      "468/468 [==============================] - 4s 8ms/step - loss: 0.1065\n",
      "Epoch 22/50\n",
      "468/468 [==============================] - 4s 8ms/step - loss: 0.1059\n",
      "Epoch 23/50\n",
      "468/468 [==============================] - 3s 7ms/step - loss: 0.1054\n",
      "Epoch 24/50\n",
      "468/468 [==============================] - 3s 7ms/step - loss: 0.1049\n",
      "Epoch 25/50\n",
      "468/468 [==============================] - 4s 8ms/step - loss: 0.1045\n",
      "Epoch 26/50\n",
      "468/468 [==============================] - 3s 7ms/step - loss: 0.1042\n",
      "Epoch 27/50\n",
      "468/468 [==============================] - 3s 7ms/step - loss: 0.1039\n",
      "Epoch 28/50\n",
      "468/468 [==============================] - 3s 7ms/step - loss: 0.1036\n",
      "Epoch 29/50\n",
      "468/468 [==============================] - 4s 9ms/step - loss: 0.1033\n",
      "Epoch 30/50\n",
      "468/468 [==============================] - 3s 7ms/step - loss: 0.1031\n",
      "Epoch 31/50\n",
      "468/468 [==============================] - 3s 7ms/step - loss: 0.1028\n",
      "Epoch 32/50\n",
      "468/468 [==============================] - 4s 8ms/step - loss: 0.1026\n",
      "Epoch 33/50\n",
      "468/468 [==============================] - 3s 7ms/step - loss: 0.1024\n",
      "Epoch 34/50\n",
      "468/468 [==============================] - 3s 7ms/step - loss: 0.1022\n",
      "Epoch 35/50\n",
      "468/468 [==============================] - 3s 7ms/step - loss: 0.1020\n",
      "Epoch 36/50\n",
      "468/468 [==============================] - 4s 9ms/step - loss: 0.1017\n",
      "Epoch 37/50\n",
      "468/468 [==============================] - 3s 7ms/step - loss: 0.1016\n",
      "Epoch 38/50\n",
      "468/468 [==============================] - 3s 7ms/step - loss: 0.1014\n",
      "Epoch 39/50\n",
      "468/468 [==============================] - 3s 7ms/step - loss: 0.1012\n",
      "Epoch 40/50\n",
      "468/468 [==============================] - 4s 9ms/step - loss: 0.1011\n",
      "Epoch 41/50\n",
      "468/468 [==============================] - 3s 7ms/step - loss: 0.1009\n",
      "Epoch 42/50\n",
      "468/468 [==============================] - 3s 7ms/step - loss: 0.1007\n",
      "Epoch 43/50\n",
      "468/468 [==============================] - 4s 8ms/step - loss: 0.1006\n",
      "Epoch 44/50\n",
      "468/468 [==============================] - 4s 7ms/step - loss: 0.1005\n",
      "Epoch 45/50\n",
      "468/468 [==============================] - 4s 9ms/step - loss: 0.1003\n",
      "Epoch 46/50\n",
      "468/468 [==============================] - 4s 8ms/step - loss: 0.1001\n",
      "Epoch 47/50\n",
      "468/468 [==============================] - 4s 8ms/step - loss: 0.1001\n",
      "Epoch 48/50\n",
      "468/468 [==============================] - 3s 7ms/step - loss: 0.1000\n",
      "Epoch 49/50\n",
      "468/468 [==============================] - 3s 7ms/step - loss: 0.0998\n",
      "Epoch 50/50\n",
      "468/468 [==============================] - 4s 9ms/step - loss: 0.0997\n"
     ]
    }
   ]
  },
  {
   "cell_type": "code",
   "source": [
    "def display_one_row(disp_images, offset, shape=(28, 28)):\n",
    "  '''Display sample outputs in one row.'''\n",
    "  for idx, test_image in enumerate(disp_images):\n",
    "    plt.subplot(3, 10, offset + idx + 1)\n",
    "    plt.xticks([])\n",
    "    plt.yticks([])\n",
    "    test_image = np.reshape(test_image, shape)\n",
    "    plt.imshow(test_image, cmap='gray')\n",
    "\n",
    "\n",
    "def display_results(disp_input_images, disp_encoded, disp_predicted, enc_shape=(8,4)):\n",
    "  '''Displays the input, encoded, and decoded output values.'''\n",
    "  plt.figure(figsize=(15, 5))\n",
    "  display_one_row(disp_input_images, 0, shape=(28,28,))\n",
    "  display_one_row(disp_encoded, 10, shape=(4,4))\n",
    "  display_one_row(disp_predicted, 20, shape=(28,28,))\n",
    "\n",
    "# take 1 batch of the dataset\n",
    "test_dataset = test.take(1)\n",
    "\n",
    "# take the input images and put them in a list\n",
    "output_samples = []\n",
    "for input_image, image in tfds.as_numpy(test_dataset):\n",
    "      output_samples = input_image\n",
    "\n",
    "# pick 10 random numbers to be used as indices to the list above\n",
    "idxs = np.random.choice(BATCH_SIZE, size=10)\n",
    "\n",
    "# get the encoder output\n",
    "encoded_predicted = model.Model_Encoder.predict(test_dataset)\n",
    "\n",
    "# get a prediction for the test batch\n",
    "deep_predicted = model.Model.predict(test_dataset)\n",
    "\n",
    "# display the 10 samples, encodings and decoded values!\n",
    "display_results(output_samples[idxs], encoded_predicted[idxs], deep_predicted[idxs])"
   ],
   "metadata": {
    "colab": {
     "base_uri": "https://localhost:8080/",
     "height": 407
    },
    "id": "Vpmmss1IFM3h",
    "outputId": "6c951d1e-49aa-4202-f8d9-434e842da6ce",
    "pycharm": {
     "name": "#%%\n"
    }
   },
   "execution_count": 32,
   "outputs": [
    {
     "output_type": "display_data",
     "data": {
      "text/plain": [
       "<Figure size 1500x500 with 30 Axes>"
      ],
      "image/png": "[encoded data removed]"
     },
     "metadata": {}
    }
   ]
  },
  {
   "cell_type": "code",
   "source": [],
   "metadata": {
    "id": "I1GoE7NHFM8_",
    "pycharm": {
     "name": "#%%\n"
    }
   },
   "execution_count": null,
   "outputs": []
  },
  {
   "cell_type": "code",
   "source": [],
   "metadata": {
    "id": "E57OsBdKFNEW",
    "pycharm": {
     "name": "#%%\n"
    }
   },
   "execution_count": null,
   "outputs": []
  }
 ]
}